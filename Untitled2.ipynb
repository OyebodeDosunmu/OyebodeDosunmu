{
  "nbformat": 4,
  "nbformat_minor": 0,
  "metadata": {
    "colab": {
      "name": "Untitled2.ipynb",
      "provenance": [],
      "collapsed_sections": [],
      "authorship_tag": "ABX9TyPn6ed1/cGb9F8feTHj4hIo",
      "include_colab_link": true
    },
    "kernelspec": {
      "name": "python3",
      "display_name": "Python 3"
    },
    "language_info": {
      "name": "python"
    }
  },
  "cells": [
    {
      "cell_type": "markdown",
      "metadata": {
        "id": "view-in-github",
        "colab_type": "text"
      },
      "source": [
        "<a href=\"https://colab.research.google.com/github/OyebodeDosunmu/OyebodeDosunmu/blob/main/Untitled2.ipynb\" target=\"_parent\"><img src=\"https://colab.research.google.com/assets/colab-badge.svg\" alt=\"Open In Colab\"/></a>"
      ]
    },
    {
      "cell_type": "code",
      "execution_count": null,
      "metadata": {
        "id": "cbuZ0qC6JQsN"
      },
      "outputs": [],
      "source": [
        "# Import the random module\n",
        "import random\n",
        "\n",
        "while True:\n",
        "  upper = input(\"Choose an upper bound for the random number (q to exit): \")\n",
        "  if upper == \"q\":\n",
        "    break\n",
        "  random_num = random.randint(0,100)\n",
        "  guesses = int(upper) // 3\n",
        "\n",
        "  guess = -1\n",
        "  while guess != random_num and guesses > 0:\n",
        "    guess = int(input(\"Guess a number between 0 and + \" + upper + \": \"))\n",
        "    guesses -= 1\n",
        "    if guess == random_num:\n",
        "      print(\"Congratulations! \" + str(guess) + \"is correct!\\n\")\n",
        "    elif guesses <= 0:\n",
        "      print(\"Oops... you ran out of guesses. The correct number was \" + str(random_num) + \".\\n\")\n",
        "    elif guess < random_num:\n",
        "      print(\"Too low!\")\n",
        "    else:\n",
        "      print(\"Too high!\")\n",
        "\n"
      ]
    }
  ]
}